{
 "cells": [
  {
   "cell_type": "code",
   "execution_count": 1,
   "metadata": {},
   "outputs": [],
   "source": [
    "import tensorflow as tf"
   ]
  },
  {
   "cell_type": "code",
   "execution_count": 6,
   "metadata": {},
   "outputs": [],
   "source": [
    "# 1 <= n < 7 1 ~ 6 까지 구성된 10행 1열 짜리 matrix 생성 \n",
    "x = tf.random_uniform([10, 1], minval = 1, maxval = 7, dtype = tf.int32)"
   ]
  },
  {
   "cell_type": "code",
   "execution_count": 7,
   "metadata": {},
   "outputs": [],
   "source": [
    "sess = tf.Session()"
   ]
  },
  {
   "cell_type": "code",
   "execution_count": 8,
   "metadata": {
    "scrolled": true
   },
   "outputs": [
    {
     "data": {
      "text/plain": [
       "array([[3],\n",
       "       [1],\n",
       "       [3],\n",
       "       [5],\n",
       "       [5],\n",
       "       [1],\n",
       "       [4],\n",
       "       [5],\n",
       "       [2],\n",
       "       [5]])"
      ]
     },
     "execution_count": 8,
     "metadata": {},
     "output_type": "execute_result"
    }
   ],
   "source": [
    "sess.run(x)"
   ]
  },
  {
   "cell_type": "code",
   "execution_count": 36,
   "metadata": {},
   "outputs": [],
   "source": [
    "c = tf.constant([[1], [2]]) # 2행 1열\n",
    "d = tf.constant([[3], [4]])\n",
    "r = tf.concat([c,d], axis = 1) # 행으로 결합 axis = 1 주면 열로 결합"
   ]
  },
  {
   "cell_type": "code",
   "execution_count": 37,
   "metadata": {},
   "outputs": [
    {
     "data": {
      "text/plain": [
       "array([[1, 3],\n",
       "       [2, 4]])"
      ]
     },
     "execution_count": 37,
     "metadata": {},
     "output_type": "execute_result"
    }
   ],
   "source": [
    "sess.run(r)"
   ]
  },
  {
   "cell_type": "markdown",
   "metadata": {},
   "source": [
    "주사위 2개를 10번 굴리기 시행했을때 \n",
    "10 x 3 매트릭스 텐서 생성\n",
    "1열과 2열은 주사위를 시행했을 때 값이고\n",
    "3열은 두개열의 합으로 구성된다."
   ]
  },
  {
   "cell_type": "code",
   "execution_count": 31,
   "metadata": {},
   "outputs": [
    {
     "data": {
      "text/plain": [
       "array([[ 3,  2,  5],\n",
       "       [ 3,  2,  5],\n",
       "       [ 4,  2,  6],\n",
       "       [ 2,  3,  5],\n",
       "       [ 4,  6, 10],\n",
       "       [ 4,  5,  9],\n",
       "       [ 4,  5,  9],\n",
       "       [ 4,  5,  9],\n",
       "       [ 3,  4,  7],\n",
       "       [ 3,  1,  4]])"
      ]
     },
     "execution_count": 31,
     "metadata": {},
     "output_type": "execute_result"
    }
   ],
   "source": [
    "a = tf.random_uniform([10,1], minval = 1, maxval = 7, dtype = tf.int32)\n",
    "b = tf.random_uniform([10,1], minval = 1, maxval = 7, dtype = tf.int32)\n",
    "sum = tf.add(a,b)\n",
    "dice = tf.concat([a,b,sum], axis = 1)\n",
    "sess.run(dice)"
   ]
  },
  {
   "cell_type": "code",
   "execution_count": null,
   "metadata": {},
   "outputs": [],
   "source": []
  }
 ],
 "metadata": {
  "kernelspec": {
   "display_name": "Python 3",
   "language": "python",
   "name": "python3"
  },
  "language_info": {
   "codemirror_mode": {
    "name": "ipython",
    "version": 3
   },
   "file_extension": ".py",
   "mimetype": "text/x-python",
   "name": "python",
   "nbconvert_exporter": "python",
   "pygments_lexer": "ipython3",
   "version": "3.7.6"
  }
 },
 "nbformat": 4,
 "nbformat_minor": 4
}
